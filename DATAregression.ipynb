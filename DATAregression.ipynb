{
 "cells": [
  {
   "cell_type": "code",
   "execution_count": 2,
   "id": "46b7a8c0-b999-4f01-b3a3-2c74c770c1aa",
   "metadata": {},
   "outputs": [],
   "source": [
    "import pandas as pd\n",
    "import numpy as np\n",
    "from sklearn.model_selection import train_test_split\n",
    "from sklearn.neighbors import KNeighborsRegressor\n",
    "from sklearn.metrics import mean_absolute_error, mean_squared_error, r2_score, mean_absolute_percentage_error\n",
    "import joblib\n"
   ]
  },
  {
   "cell_type": "code",
   "execution_count": 4,
   "id": "6b3aa00b-b311-4d5f-a136-cd437a00b4ca",
   "metadata": {},
   "outputs": [],
   "source": [
    "df=pd.read_csv('Data_updated.csv')"
   ]
  },
  {
   "cell_type": "code",
   "execution_count": 16,
   "id": "8da8f69c-53e3-4f38-a4da-dff7fa0b365d",
   "metadata": {},
   "outputs": [],
   "source": [
    "X=df.drop(columns=['Price_house'])\n",
    "y=df['Price_house']\n",
    "X_train, X_test, y_train, y_test=train_test_split(X,y,test_size=20,random_state=42)"
   ]
  },
  {
   "cell_type": "code",
   "execution_count": 24,
   "id": "0f934a9c-57fc-4a33-a6bc-5b73f6292b32",
   "metadata": {},
   "outputs": [
    {
     "name": "stdout",
     "output_type": "stream",
     "text": [
      "Mean Absolute Error (MAE): 1629950.0\n",
      "Mean Square Error (MSE): 4133854450000.0\n",
      "Root Mean Square Error (RMSE): 1629950.0\n",
      "R-squared (R²): -0.2538906681296613\n",
      "Mean Absolute Percentage Error (MAPE): 0.26161674308989846\n"
     ]
    }
   ],
   "source": [
    "knn=KNeighborsRegressor(n_neighbors=3)\n",
    "knn.fit(X_train,y_train)\n",
    "y_pred=knn.predict(X_test)\n",
    "\n",
    "mae=mean_absolute_error(y_test,y_pred)\n",
    "print(f\"Mean Absolute Error (MAE): {mae}\")\n",
    "mse=mean_squared_error(y_test,y_pred)\n",
    "print(f\"Mean Square Error (MSE): {mse}\")\n",
    "rmse=np.sqrt(mse)\n",
    "print(f\"Root Mean Square Error (RMSE): {mae}\")\n",
    "r2=r2_score(y_test,y_pred)\n",
    "print(f\"R-squared (R²): {r2}\")\n",
    "mape = mean_absolute_percentage_error(y_test, y_pred)\n",
    "print(f\"Mean Absolute Percentage Error (MAPE): {mape}\")"
   ]
  },
  {
   "cell_type": "code",
   "execution_count": 25,
   "id": "dc5d5aae-b5bb-4ccd-8cd2-aa80f57c70e1",
   "metadata": {},
   "outputs": [
    {
     "data": {
      "text/plain": [
       "['knn_model.pkl']"
      ]
     },
     "execution_count": 25,
     "metadata": {},
     "output_type": "execute_result"
    }
   ],
   "source": [
    "joblib.dump(knn,'knn_model.pkl')"
   ]
  },
  {
   "cell_type": "code",
   "execution_count": 26,
   "id": "0045b51d-47f4-48e4-bfda-0b999dc2d8ff",
   "metadata": {},
   "outputs": [],
   "source": [
    "model=joblib.load('knn_model.pkl')"
   ]
  }
 ],
 "metadata": {
  "kernelspec": {
   "display_name": "Python 3 (ipykernel)",
   "language": "python",
   "name": "python3"
  },
  "language_info": {
   "codemirror_mode": {
    "name": "ipython",
    "version": 3
   },
   "file_extension": ".py",
   "mimetype": "text/x-python",
   "name": "python",
   "nbconvert_exporter": "python",
   "pygments_lexer": "ipython3",
   "version": "3.13.5"
  }
 },
 "nbformat": 4,
 "nbformat_minor": 5
}
